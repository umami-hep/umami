{
 "cells": [
  {
   "cell_type": "markdown",
   "metadata": {},
   "source": [
    "# b-tagging Machine Learning Tutorial"
   ]
  },
  {
   "cell_type": "markdown",
   "metadata": {},
   "source": [
    "training script for DL1"
   ]
  },
  {
   "cell_type": "code",
   "execution_count": 3,
   "metadata": {},
   "outputs": [],
   "source": [
    "import h5py\n",
    "import numpy as np\n",
    "import pandas as pd\n",
    "import json\n",
    "import os\n",
    "import matplotlib.pyplot as plt\n",
    "from matplotlib.ticker import MaxNLocator"
   ]
  },
  {
   "cell_type": "code",
   "execution_count": 46,
   "metadata": {},
   "outputs": [],
   "source": [
    "from keras.layers import BatchNormalization, TimeDistributed, ReLU, Layer\n",
    "from keras.layers import Dense, Activation, Input, add, concatenate, Masking\n",
    "from keras.models import Model\n",
    "from keras.optimizers import Adam\n",
    "from keras.callbacks import ReduceLROnPlateau, Callback\n",
    "from keras import backend as K"
   ]
  },
  {
   "cell_type": "code",
   "execution_count": 4,
   "metadata": {},
   "outputs": [],
   "source": [
    "%load_ext autoreload\n",
    "%autoreload 2"
   ]
  },
  {
   "cell_type": "code",
   "execution_count": 7,
   "metadata": {},
   "outputs": [],
   "source": [
    "from plottingFunctions import sigBkgEff"
   ]
  },
  {
   "cell_type": "code",
   "execution_count": 12,
   "metadata": {},
   "outputs": [],
   "source": [
    "file_path = \"../../btagging-ml_tutorial\"\n",
    "#file_path = \"/eos/home-m/mguth/public/btagging-ml_tutorial_files\""
   ]
  },
  {
   "cell_type": "code",
   "execution_count": 13,
   "metadata": {},
   "outputs": [],
   "source": [
    "trainfile_name = file_path+\"/MC16d_hybrid-training_sample-DL1.h5\"\n",
    "h5f_train = h5py.File(trainfile_name, 'r')"
   ]
  },
  {
   "cell_type": "code",
   "execution_count": 29,
   "metadata": {},
   "outputs": [],
   "source": [
    "X_trk_train = h5f_train['X_trk_train'][:]\n",
    "X_train = h5f_train['X_train'][:]\n",
    "Y_train = h5f_train['Y_train'][:]"
   ]
  },
  {
   "cell_type": "code",
   "execution_count": 15,
   "metadata": {},
   "outputs": [],
   "source": [
    "testfile_name = file_path+\"/MC16d_ttbar-test-validation_sample-DL1.h5\"\n",
    "h5f_test = h5py.File(testfile_name, 'r')"
   ]
  },
  {
   "cell_type": "code",
   "execution_count": 30,
   "metadata": {},
   "outputs": [],
   "source": [
    "X_trk_test = h5f_test['X_test'][:]\n",
    "X_test = h5f_test['X_test'][:]\n",
    "Y_test = h5f_test['Y_test'][:]"
   ]
  },
  {
   "cell_type": "markdown",
   "metadata": {},
   "source": [
    "In the following the DL1 network is defined"
   ]
  },
  {
   "cell_type": "code",
   "execution_count": 17,
   "metadata": {},
   "outputs": [
    {
     "name": "stdout",
     "output_type": "stream",
     "text": [
      "WARNING:tensorflow:From /gpfs/slac/atlas/fs1/d/nhartman/miniconda3/envs/py3/lib/python3.7/site-packages/tensorflow/python/framework/op_def_library.py:263: colocate_with (from tensorflow.python.framework.ops) is deprecated and will be removed in a future version.\n",
      "Instructions for updating:\n",
      "Colocations handled automatically by placer.\n",
      "_________________________________________________________________\n",
      "Layer (type)                 Output Shape              Param #   \n",
      "=================================================================\n",
      "input_1 (InputLayer)         (None, 44)                0         \n",
      "_________________________________________________________________\n",
      "dense_1 (Dense)              (None, 72)                3240      \n",
      "_________________________________________________________________\n",
      "batch_normalization_1 (Batch (None, 72)                288       \n",
      "_________________________________________________________________\n",
      "activation_1 (Activation)    (None, 72)                0         \n",
      "_________________________________________________________________\n",
      "dense_2 (Dense)              (None, 57)                4161      \n",
      "_________________________________________________________________\n",
      "batch_normalization_2 (Batch (None, 57)                228       \n",
      "_________________________________________________________________\n",
      "activation_2 (Activation)    (None, 57)                0         \n",
      "_________________________________________________________________\n",
      "dense_3 (Dense)              (None, 60)                3480      \n",
      "_________________________________________________________________\n",
      "batch_normalization_3 (Batch (None, 60)                240       \n",
      "_________________________________________________________________\n",
      "activation_3 (Activation)    (None, 60)                0         \n",
      "_________________________________________________________________\n",
      "dense_4 (Dense)              (None, 48)                2928      \n",
      "_________________________________________________________________\n",
      "batch_normalization_4 (Batch (None, 48)                192       \n",
      "_________________________________________________________________\n",
      "activation_4 (Activation)    (None, 48)                0         \n",
      "_________________________________________________________________\n",
      "dense_5 (Dense)              (None, 36)                1764      \n",
      "_________________________________________________________________\n",
      "batch_normalization_5 (Batch (None, 36)                144       \n",
      "_________________________________________________________________\n",
      "activation_5 (Activation)    (None, 36)                0         \n",
      "_________________________________________________________________\n",
      "dense_6 (Dense)              (None, 24)                888       \n",
      "_________________________________________________________________\n",
      "batch_normalization_6 (Batch (None, 24)                96        \n",
      "_________________________________________________________________\n",
      "activation_6 (Activation)    (None, 24)                0         \n",
      "_________________________________________________________________\n",
      "dense_7 (Dense)              (None, 12)                300       \n",
      "_________________________________________________________________\n",
      "batch_normalization_7 (Batch (None, 12)                48        \n",
      "_________________________________________________________________\n",
      "activation_7 (Activation)    (None, 12)                0         \n",
      "_________________________________________________________________\n",
      "dense_8 (Dense)              (None, 6)                 78        \n",
      "_________________________________________________________________\n",
      "batch_normalization_8 (Batch (None, 6)                 24        \n",
      "_________________________________________________________________\n",
      "activation_8 (Activation)    (None, 6)                 0         \n",
      "_________________________________________________________________\n",
      "dense_9 (Dense)              (None, 3)                 21        \n",
      "=================================================================\n",
      "Total params: 18,120\n",
      "Trainable params: 17,490\n",
      "Non-trainable params: 630\n",
      "_________________________________________________________________\n"
     ]
    }
   ],
   "source": [
    "# Input layer\n",
    "inputs = Input(shape=(X_train.shape[1],))\n",
    "# number of nodes in the different hidden layers\n",
    "l_units = [72, 57, 60, 48, 36, 24, 12, 6]\n",
    "x = inputs\n",
    "# loop to initialise the hidden layers\n",
    "for unit in l_units:\n",
    "    x = Dense(units=unit, activation=\"linear\", kernel_initializer='glorot_uniform')(x)\n",
    "    x = BatchNormalization()(x)\n",
    "    x = Activation('relu')(x)\n",
    "#     x = Dropout(0.1)\n",
    "# output layer, using softmax which will return a probability for each jet to be either light, c- or b-jet\n",
    "predictions = Dense(units=3, activation='softmax',\n",
    "                    kernel_initializer='glorot_uniform')(x)\n",
    "\n",
    "model = Model(inputs=inputs, outputs=predictions)\n",
    "model.summary()\n",
    "\n",
    "model_optimizer = Adam(lr=0.01)\n",
    "model.compile(  # loss='mse',\n",
    "    loss='categorical_crossentropy',\n",
    "    optimizer=model_optimizer,\n",
    "    metrics=['accuracy']\n",
    ")"
   ]
  },
  {
   "cell_type": "code",
   "execution_count": 18,
   "metadata": {},
   "outputs": [],
   "source": [
    "def GetRejection(y_pred, y_true):\n",
    "    \"\"\"Calculates the c and light rejection for 77% WP and 0.018 c-fraction.\"\"\"\n",
    "    b_index, c_index, u_index = 2, 1, 0\n",
    "    cfrac = 0.018\n",
    "    target_beff = 0.77\n",
    "    y_true = np.argmax(y_true, axis=1)\n",
    "    b_jets = y_pred[y_true == b_index]\n",
    "    c_jets = y_pred[y_true == c_index]\n",
    "    u_jets = y_pred[y_true == u_index]\n",
    "    bscores = np.log(b_jets[:, b_index] / (cfrac * b_jets[:, c_index] +\n",
    "                                           (1 - cfrac) * b_jets[:, u_index]))\n",
    "    cutvalue = np.percentile(bscores, 100.0 * (1.0 - target_beff))\n",
    "\n",
    "    c_eff = len(c_jets[np.log(c_jets[:, b_index] / (cfrac * c_jets[:, c_index]\n",
    "                                                    + (1 - cfrac) *\n",
    "                                                    c_jets[:, u_index])) >\n",
    "                       cutvalue]) / float(len(c_jets))\n",
    "    u_eff = len(u_jets[np.log(u_jets[:, b_index] / (cfrac *\n",
    "                                                    u_jets[:, c_index] +\n",
    "                                                    (1 - cfrac) *\n",
    "                                                    u_jets[:, u_index])) >\n",
    "                       cutvalue]) / float(len(u_jets))\n",
    "\n",
    "    if c_eff == 0 or u_eff == 0:\n",
    "        return -1, -1\n",
    "    return 1. / c_eff, 1. / u_eff\n",
    "\n",
    "\n",
    "class MyCallback(Callback):\n",
    "    \"\"\"Custom callback function calculating per epoch light and c-rejection and saves the model of each epoch.\"\"\"\n",
    "    def __init__(self, X_valid=0, Y_valid=0,\n",
    "                 model_name='test', store_all=False):\n",
    "        self.X_valid = X_valid\n",
    "        self.Y_valid = Y_valid\n",
    "        self.result = []\n",
    "        self.model_name = model_name\n",
    "        os.system(\"mkdir -p %s\" % self.model_name)\n",
    "        self.dict_list = []\n",
    "        self.store_all = store_all\n",
    "\n",
    "    def on_epoch_end(self, epoch, logs=None):\n",
    "        if self.store_all:\n",
    "            self.model.save('%s/model_epoch%i.h5' % (self.model_name, epoch))\n",
    "        y_pred = self.model.predict(self.X_valid, batch_size=5000)\n",
    "        c_rej, u_rej = GetRejection(y_pred, self.Y_valid)\n",
    "        dict_epoch = {\n",
    "            \"epoch\": epoch,\n",
    "            \"loss\": logs['loss'],\n",
    "            \"acc\": logs['acc'],\n",
    "            \"val_loss\": logs['val_loss'],\n",
    "            \"val_acc\": logs['val_acc'],\n",
    "            \"c_rej\": c_rej,\n",
    "            \"u_rej\": u_rej\n",
    "        }\n",
    "\n",
    "        self.dict_list.append(dict_epoch)\n",
    "        with open('%s/DictFile.json' % self.model_name, 'w') as outfile:\n",
    "            json.dump(self.dict_list, outfile, indent=4)"
   ]
  },
  {
   "cell_type": "code",
   "execution_count": 20,
   "metadata": {},
   "outputs": [],
   "source": [
    "Ntrain = 100"
   ]
  },
  {
   "cell_type": "code",
   "execution_count": 19,
   "metadata": {},
   "outputs": [
    {
     "name": "stdout",
     "output_type": "stream",
     "text": [
      "WARNING:tensorflow:From /gpfs/slac/atlas/fs1/d/nhartman/miniconda3/envs/py3/lib/python3.7/site-packages/tensorflow/python/ops/math_ops.py:3066: to_int32 (from tensorflow.python.ops.math_ops) is deprecated and will be removed in a future version.\n",
      "Instructions for updating:\n",
      "Use tf.cast instead.\n",
      "Train on 100 samples, validate on 100 samples\n",
      "Epoch 1/10\n",
      "100/100 [==============================] - 6s 65ms/step - loss: 1.5034 - acc: 0.2700 - val_loss: 1.7610 - val_acc: 0.3300\n",
      "Epoch 2/10\n",
      "100/100 [==============================] - 0s 197us/step - loss: 1.3259 - acc: 0.2100 - val_loss: 1.4876 - val_acc: 0.3200\n"
     ]
    },
    {
     "name": "stderr",
     "output_type": "stream",
     "text": [
      "/gpfs/slac/atlas/fs1/d/nhartman/miniconda3/envs/py3/lib/python3.7/site-packages/ipykernel_launcher.py:21: RuntimeWarning: divide by zero encountered in log\n"
     ]
    },
    {
     "name": "stdout",
     "output_type": "stream",
     "text": [
      "Epoch 3/10\n",
      "100/100 [==============================] - 0s 199us/step - loss: 1.1506 - acc: 0.3300 - val_loss: 1.5010 - val_acc: 0.3900\n",
      "Epoch 4/10\n",
      "100/100 [==============================] - 0s 186us/step - loss: 1.0086 - acc: 0.4300 - val_loss: 1.4133 - val_acc: 0.3800\n",
      "Epoch 5/10\n",
      "100/100 [==============================] - 0s 196us/step - loss: 0.9085 - acc: 0.5500 - val_loss: 1.2853 - val_acc: 0.3600\n",
      "Epoch 6/10\n",
      "100/100 [==============================] - 0s 179us/step - loss: 0.8240 - acc: 0.6500 - val_loss: 1.1575 - val_acc: 0.4000\n",
      "Epoch 7/10\n",
      "100/100 [==============================] - 0s 193us/step - loss: 0.7511 - acc: 0.7600 - val_loss: 1.1039 - val_acc: 0.5200\n",
      "Epoch 8/10\n",
      "100/100 [==============================] - 0s 189us/step - loss: 0.6837 - acc: 0.9200 - val_loss: 1.0611 - val_acc: 0.5500\n",
      "Epoch 9/10\n",
      "100/100 [==============================] - 0s 192us/step - loss: 0.6275 - acc: 0.9800 - val_loss: 1.0330 - val_acc: 0.5600\n",
      "Epoch 10/10\n",
      "100/100 [==============================] - 0s 164us/step - loss: 0.5861 - acc: 0.9900 - val_loss: 1.0031 - val_acc: 0.5600\n"
     ]
    },
    {
     "data": {
      "text/plain": [
       "<keras.callbacks.History at 0x7f710b3b7f28>"
      ]
     },
     "execution_count": 19,
     "metadata": {},
     "output_type": "execute_result"
    }
   ],
   "source": [
    "reduce_lr = ReduceLROnPlateau(monitor='loss', factor=0.2,\n",
    "                              patience=5, min_lr=0.00001)\n",
    "my_callback = MyCallback(X_valid=X_test,\n",
    "                         Y_valid=Y_test,\n",
    "                         model_name=\"DL1_example\"\n",
    "#                         ,store_all=True #flag to store model of each epoch\n",
    "                        )\n",
    "\n",
    "callbacks = [reduce_lr, my_callback]\n",
    "\n",
    "model.fit(X_train[:Ntrain], Y_train[:Ntrain],\n",
    "          validation_data=[X_test[:Ntrain], Y_test[:Ntrain]],\n",
    "          epochs=10, # typically ~130 are necessary to converge\n",
    "          batch_size=3000,\n",
    "          callbacks=callbacks,\n",
    "          )"
   ]
  },
  {
   "cell_type": "code",
   "execution_count": 21,
   "metadata": {},
   "outputs": [
    {
     "data": {
      "text/html": [
       "<div>\n",
       "<style scoped>\n",
       "    .dataframe tbody tr th:only-of-type {\n",
       "        vertical-align: middle;\n",
       "    }\n",
       "\n",
       "    .dataframe tbody tr th {\n",
       "        vertical-align: top;\n",
       "    }\n",
       "\n",
       "    .dataframe thead th {\n",
       "        text-align: right;\n",
       "    }\n",
       "</style>\n",
       "<table border=\"1\" class=\"dataframe\">\n",
       "  <thead>\n",
       "    <tr style=\"text-align: right;\">\n",
       "      <th></th>\n",
       "      <th>acc</th>\n",
       "      <th>c_rej</th>\n",
       "      <th>epoch</th>\n",
       "      <th>loss</th>\n",
       "      <th>u_rej</th>\n",
       "      <th>val_acc</th>\n",
       "      <th>val_loss</th>\n",
       "    </tr>\n",
       "  </thead>\n",
       "  <tbody>\n",
       "    <tr>\n",
       "      <th>0</th>\n",
       "      <td>0.27</td>\n",
       "      <td>1.171180</td>\n",
       "      <td>0</td>\n",
       "      <td>1.503385</td>\n",
       "      <td>1.190626</td>\n",
       "      <td>0.33</td>\n",
       "      <td>1.760967</td>\n",
       "    </tr>\n",
       "    <tr>\n",
       "      <th>1</th>\n",
       "      <td>0.21</td>\n",
       "      <td>1.219292</td>\n",
       "      <td>1</td>\n",
       "      <td>1.325942</td>\n",
       "      <td>1.071544</td>\n",
       "      <td>0.32</td>\n",
       "      <td>1.487620</td>\n",
       "    </tr>\n",
       "    <tr>\n",
       "      <th>2</th>\n",
       "      <td>0.33</td>\n",
       "      <td>1.254480</td>\n",
       "      <td>2</td>\n",
       "      <td>1.150611</td>\n",
       "      <td>1.061619</td>\n",
       "      <td>0.39</td>\n",
       "      <td>1.500987</td>\n",
       "    </tr>\n",
       "    <tr>\n",
       "      <th>3</th>\n",
       "      <td>0.43</td>\n",
       "      <td>1.284462</td>\n",
       "      <td>3</td>\n",
       "      <td>1.008605</td>\n",
       "      <td>1.066277</td>\n",
       "      <td>0.38</td>\n",
       "      <td>1.413288</td>\n",
       "    </tr>\n",
       "    <tr>\n",
       "      <th>4</th>\n",
       "      <td>0.55</td>\n",
       "      <td>1.335241</td>\n",
       "      <td>4</td>\n",
       "      <td>0.908499</td>\n",
       "      <td>1.102213</td>\n",
       "      <td>0.36</td>\n",
       "      <td>1.285311</td>\n",
       "    </tr>\n",
       "    <tr>\n",
       "      <th>5</th>\n",
       "      <td>0.65</td>\n",
       "      <td>1.465518</td>\n",
       "      <td>5</td>\n",
       "      <td>0.824013</td>\n",
       "      <td>1.176135</td>\n",
       "      <td>0.40</td>\n",
       "      <td>1.157517</td>\n",
       "    </tr>\n",
       "    <tr>\n",
       "      <th>6</th>\n",
       "      <td>0.76</td>\n",
       "      <td>1.589077</td>\n",
       "      <td>6</td>\n",
       "      <td>0.751097</td>\n",
       "      <td>1.262586</td>\n",
       "      <td>0.52</td>\n",
       "      <td>1.103862</td>\n",
       "    </tr>\n",
       "    <tr>\n",
       "      <th>7</th>\n",
       "      <td>0.92</td>\n",
       "      <td>1.688728</td>\n",
       "      <td>7</td>\n",
       "      <td>0.683660</td>\n",
       "      <td>1.356502</td>\n",
       "      <td>0.55</td>\n",
       "      <td>1.061130</td>\n",
       "    </tr>\n",
       "    <tr>\n",
       "      <th>8</th>\n",
       "      <td>0.98</td>\n",
       "      <td>1.789717</td>\n",
       "      <td>8</td>\n",
       "      <td>0.627473</td>\n",
       "      <td>1.456709</td>\n",
       "      <td>0.56</td>\n",
       "      <td>1.033044</td>\n",
       "    </tr>\n",
       "    <tr>\n",
       "      <th>9</th>\n",
       "      <td>0.99</td>\n",
       "      <td>1.895155</td>\n",
       "      <td>9</td>\n",
       "      <td>0.586124</td>\n",
       "      <td>1.576643</td>\n",
       "      <td>0.56</td>\n",
       "      <td>1.003066</td>\n",
       "    </tr>\n",
       "  </tbody>\n",
       "</table>\n",
       "</div>"
      ],
      "text/plain": [
       "    acc     c_rej  epoch      loss     u_rej  val_acc  val_loss\n",
       "0  0.27  1.171180      0  1.503385  1.190626     0.33  1.760967\n",
       "1  0.21  1.219292      1  1.325942  1.071544     0.32  1.487620\n",
       "2  0.33  1.254480      2  1.150611  1.061619     0.39  1.500987\n",
       "3  0.43  1.284462      3  1.008605  1.066277     0.38  1.413288\n",
       "4  0.55  1.335241      4  0.908499  1.102213     0.36  1.285311\n",
       "5  0.65  1.465518      5  0.824013  1.176135     0.40  1.157517\n",
       "6  0.76  1.589077      6  0.751097  1.262586     0.52  1.103862\n",
       "7  0.92  1.688728      7  0.683660  1.356502     0.55  1.061130\n",
       "8  0.98  1.789717      8  0.627473  1.456709     0.56  1.033044\n",
       "9  0.99  1.895155      9  0.586124  1.576643     0.56  1.003066"
      ]
     },
     "execution_count": 21,
     "metadata": {},
     "output_type": "execute_result"
    }
   ],
   "source": [
    "df_results = pd.read_json(\"DL1_example/DictFile.json\")\n",
    "df_results"
   ]
  },
  {
   "cell_type": "code",
   "execution_count": 22,
   "metadata": {},
   "outputs": [
    {
     "data": {
      "image/png": "[encoded data removed]",
      "text/plain": [
       "<Figure size 432x288 with 1 Axes>"
      ]
     },
     "metadata": {
      "needs_background": "light"
     },
     "output_type": "display_data"
    }
   ],
   "source": [
    "plt.plot(df_results['epoch'],df_results['loss'], label='training loss - hybrid sample')\n",
    "plt.plot(df_results['epoch'],df_results['val_loss'], label='validation loss - ttbar sample')\n",
    "plt.legend()\n",
    "plt.xlabel('Epoch')\n",
    "plt.ylabel('loss')\n",
    "plt.show()"
   ]
  },
  {
   "cell_type": "code",
   "execution_count": 23,
   "metadata": {},
   "outputs": [
    {
     "data": {
      "image/png": "[encoded data removed]",
      "text/plain": [
       "<Figure size 432x288 with 2 Axes>"
      ]
     },
     "metadata": {
      "needs_background": "light"
     },
     "output_type": "display_data"
    }
   ],
   "source": [
    "fig, ax1 = plt.subplots()\n",
    "\n",
    "color = 'tab:red'\n",
    "ax1.set_xlabel('epoch')\n",
    "ax1.set_ylabel('light flavour jet rejection', color=color)\n",
    "ax1.plot(df_results[\"epoch\"],df_results['u_rej'], '--', color=color)\n",
    "ax1.tick_params(axis='y', labelcolor=color)\n",
    "\n",
    "ax2 = ax1.twinx()  # instantiate a second axes that shares the same x-axis\n",
    "\n",
    "color = 'tab:blue'\n",
    "ax2.set_ylabel(r'$c$-jet rejection', color=color)  # we already handled the x-label with ax1\n",
    "ax2.plot(df_results[\"epoch\"], df_results['c_rej'], ':', color=color, label='std = 0.12')\n",
    "ax2.tick_params(axis='y', labelcolor=color)\n",
    "\n",
    "ax1.xaxis.set_major_locator(MaxNLocator(integer=True))\n",
    "\n",
    "fig.tight_layout()"
   ]
  },
  {
   "cell_type": "markdown",
   "metadata": {},
   "source": [
    "## Hyper parameter optimisation\n",
    "You can play with different hyper parameters and see their impact.\n",
    "The largest impact has the NN-structure itself, you can try changing the number of hidden layers and their number of nodes\n",
    "Other hyper parameters are the learning rate, activation function, batch size\n"
   ]
  },
  {
   "cell_type": "markdown",
   "metadata": {},
   "source": [
    "## Model Evaluation"
   ]
  },
  {
   "cell_type": "code",
   "execution_count": 25,
   "metadata": {},
   "outputs": [],
   "source": [
    "# b_effs = np.linspace(0.39, 1, 150)\n",
    "# l_rej = 1./np.load(\"DL1r-extbeff-22M.npy\", allow_pickle=True).item().get('urej')\n",
    "# c_rej = 1./np.load(\"DL1r-extbeff-22M.npy\", allow_pickle=True).item().get('crej')\n",
    "\n",
    "# l_rej_Z = 1./np.load(\"DL1r-extbeff-22M-ext-Zprime.npy\", allow_pickle=True).item().get('urej')\n",
    "# c_rej_Z = 1./np.load(\"DL1r-extbeff-22M-ext-Zprime.npy\", allow_pickle=True).item().get('crej')"
   ]
  },
  {
   "cell_type": "code",
   "execution_count": 17,
   "metadata": {},
   "outputs": [],
   "source": [
    "# To draw the roc curves faster, look at a subset of the test dataset. \n",
    "nTest = 50000"
   ]
  },
  {
   "cell_type": "code",
   "execution_count": 19,
   "metadata": {},
   "outputs": [
    {
     "name": "stdout",
     "output_type": "stream",
     "text": [
      "/gpfs/slac/atlas/fs1/d/mg294/ml-tutorial/MC16d_ttbar-test-validation_sample-NN.h5\n",
      "50000/50000 [==============================] - 4s 85us/step\n",
      "/gpfs/slac/atlas/fs1/d/mg294/ml-tutorial/MC16d_Zprime-test-validation_sample-NN.h5\n",
      "50000/50000 [==============================] - 4s 84us/step\n"
     ]
    },
    {
     "data": {
      "image/png": "[encoded data removed]",
      "text/plain": [
       "<Figure size 432x288 with 1 Axes>"
      ]
     },
     "metadata": {
      "needs_background": "light"
     },
     "output_type": "display_data"
    },
    {
     "data": {
      "image/png": "[encoded data removed]",
      "text/plain": [
       "<Figure size 432x288 with 1 Axes>"
      ]
     },
     "metadata": {
      "needs_background": "light"
     },
     "output_type": "display_data"
    }
   ],
   "source": [
    "dl1_leffs, dl1_ceffs, dl1_beffs, dl1_discs = [], [], [], []\n",
    "\n",
    "for testfile_name in [file_path+\"/MC16d_ttbar-test-validation_sample-NN.h5\",\n",
    "                      file_path+\"/MC16d_Zprime-test-validation_sample-NN.h5\"]:\n",
    "    \n",
    "    print(testfile_name)\n",
    "    h5f_test = h5py.File(testfile_name, 'r')\n",
    "\n",
    "    X_test = h5f_test['X_test'][500000:]\n",
    "    y_test = h5f_test['Y_test'][500000:]\n",
    "    \n",
    "    h5f_test.close()\n",
    "\n",
    "    (leff, ceff, beff), d = sigBkgEff(model, X_test[:nTest], y_test[:nTest], returnDisc=True, fc=0.018)\n",
    "     \n",
    "    dl1_leffs.append(leff)\n",
    "    dl1_ceffs.append(ceff)\n",
    "    dl1_beffs.append(beff)\n",
    "    dl1_discs.append(d)\n",
    "        "
   ]
  },
  {
   "cell_type": "code",
   "execution_count": 42,
   "metadata": {},
   "outputs": [
    {
     "name": "stderr",
     "output_type": "stream",
     "text": [
      "/usr/local/lib/python3.5/dist-packages/ipykernel_launcher.py:3: RuntimeWarning: divide by zero encountered in true_divide\n",
      "  This is separate from the ipykernel package so we can avoid doing imports until\n",
      "/usr/local/lib/python3.5/dist-packages/ipykernel_launcher.py:7: RuntimeWarning: divide by zero encountered in true_divide\n",
      "  import sys\n"
     ]
    },
    {
     "data": {
      "image/png": "[encoded data removed]",
      "text/plain": [
       "<Figure size 432x288 with 1 Axes>"
      ]
     },
     "metadata": {
      "needs_background": "light"
     },
     "output_type": "display_data"
    }
   ],
   "source": [
    "# ttbar\n",
    "plt.figure()\n",
    "plt.plot(dl1_beffs[0], 1 / dl1_leffs[0], color='C4', label='l-rej')\n",
    "plt.plot(b_effs, 1./l_rej, color='C2', label='l-rej - new recommendations')\n",
    "\n",
    "# plt.figure()\n",
    "plt.plot(dl1_beffs[0], 1 / dl1_ceffs[0],\"--\", color='C4', label='c-rej')\n",
    "plt.plot(b_effs, 1./c_rej, \"--\", color='C2', label='c-rej - new recommendations')\n",
    "\n",
    "plt.ylabel('background-rej')\n",
    "\n",
    "plt.legend()\n",
    "plt.title(r'$t\\bar{t}$- PFlow - DL1r')\n",
    "plt.yscale(\"log\")\n",
    "plt.xlim(0.6,1)\n",
    "plt.ylim(0,3000)\n",
    "\n",
    "plt.show()"
   ]
  },
  {
   "cell_type": "code",
   "execution_count": 51,
   "metadata": {},
   "outputs": [
    {
     "name": "stderr",
     "output_type": "stream",
     "text": [
      "/usr/local/lib/python3.5/dist-packages/ipykernel_launcher.py:3: RuntimeWarning: divide by zero encountered in true_divide\n",
      "  This is separate from the ipykernel package so we can avoid doing imports until\n",
      "/usr/local/lib/python3.5/dist-packages/ipykernel_launcher.py:7: RuntimeWarning: divide by zero encountered in true_divide\n",
      "  import sys\n"
     ]
    },
    {
     "data": {
      "image/png": "[encoded data removed]",
      "text/plain": [
       "<Figure size 432x288 with 1 Axes>"
      ]
     },
     "metadata": {
      "needs_background": "light"
     },
     "output_type": "display_data"
    }
   ],
   "source": [
    "# Z'\n",
    "plt.figure()\n",
    "plt.plot(dl1_beffs[1], 1 / dl1_leffs[1], color='C4', label='l-rej')\n",
    "plt.plot(b_effs, 1./l_rej_Z, color='C2', label='l-rej - new recommendations')\n",
    "\n",
    "# plt.figure()\n",
    "plt.plot(dl1_beffs[1], 1 / dl1_ceffs[1],\"--\", color='C4', label='c-rej')\n",
    "plt.plot(b_effs, 1./c_rej_Z, \"--\", color='C2', label='c-rej - new recommendations')\n",
    "\n",
    "plt.ylabel('background-rej')\n",
    "\n",
    "plt.legend()\n",
    "plt.title(r\"Extended Z'- PFlow - DL1r\")\n",
    "plt.yscale(\"log\")\n",
    "plt.xlim(0.6,1)\n",
    "plt.ylim(0,3000)\n",
    "\n",
    "plt.show()"
   ]
  },
  {
   "cell_type": "code",
   "execution_count": null,
   "metadata": {},
   "outputs": [],
   "source": []
  },
  {
   "cell_type": "markdown",
   "metadata": {},
   "source": [
    "## Umami\n",
    "\n",
    "**Plan:** Let's put them together now!"
   ]
  },
  {
   "cell_type": "code",
   "execution_count": 44,
   "metadata": {},
   "outputs": [],
   "source": [
    "class Sum(Layer):\n",
    "    \"\"\"\n",
    "    Simple sum layer.\n",
    "    The tricky bits are getting masking to work properly, but given\n",
    "    that time distributed dense layers _should_ compute masking on their\n",
    "    own.\n",
    "\n",
    "    Author: Dan Guest\n",
    "    https://github.com/dguest/flow-network/blob/master/SumLayer.py\n",
    "\n",
    "    \"\"\"\n",
    "\n",
    "    def __init__(self, **kwargs):\n",
    "        super().__init__(**kwargs)\n",
    "        self.supports_masking = True\n",
    "\n",
    "    def build(self, input_shape):\n",
    "        pass\n",
    "\n",
    "    def call(self, x, mask=None):\n",
    "        if mask is not None:\n",
    "            x = x * K.cast(mask, K.dtype(x))[:,:,None]\n",
    "        return K.sum(x, axis=1)\n",
    "\n",
    "    def compute_output_shape(self, input_shape):\n",
    "        return input_shape[0], input_shape[2]\n",
    "\n",
    "    def compute_mask(self, inputs, mask):\n",
    "        return None"
   ]
  },
  {
   "cell_type": "code",
   "execution_count": 26,
   "metadata": {},
   "outputs": [],
   "source": [
    "ppm_sizes_int = [100,100,128]\n",
    "dense_sizes_int = [100,100,100]"
   ]
  },
  {
   "cell_type": "code",
   "execution_count": 49,
   "metadata": {},
   "outputs": [],
   "source": [
    "_, nTrks, nFeatures = X_trk_train.shape\n",
    "nClasses=3"
   ]
  },
  {
   "cell_type": "code",
   "execution_count": 53,
   "metadata": {},
   "outputs": [],
   "source": [
    "trk_inputs = Input(shape=(nTrks,nFeatures))\n",
    "masked_inputs = Masking(mask_value=0)(trk_inputs)\n",
    "tdd = masked_inputs\n",
    "\n",
    "for i, phi_nodes in enumerate(ppm_sizes_int):\n",
    "\n",
    "    tdd = TimeDistributed(Dense(phi_nodes,activation='linear'),name=\"Phi{}_Dense\".format(i))(tdd)\n",
    "    tdd = TimeDistributed(BatchNormalization(),name=\"Phi{}_BatchNormalization\".format(i))(tdd)\n",
    "    tdd = TimeDistributed(ReLU(),name=\"Phi{}_ReLU\".format(i))(tdd)\n",
    "\n",
    "# Pooling operation... sum up the track features!\n",
    "F = Sum(name=\"Sum\")(tdd)\n",
    "\n",
    "for j, F_nodes in enumerate(dense_sizes_int):\n",
    "\n",
    "    F = Dense(F_nodes, activation='linear', name=\"F{}_Dense\".format(j))(F)\n",
    "    F = BatchNormalization(name=\"F{}_BatchNormalization\".format(j))(F)\n",
    "    F = ReLU(name=\"F{}_ReLU\".format(j))(F)\n",
    "\n",
    "dips_output = Dense(nClasses, activation='softmax',name=\"Jet_class\")(F)"
   ]
  },
  {
   "cell_type": "code",
   "execution_count": 54,
   "metadata": {},
   "outputs": [
    {
     "name": "stdout",
     "output_type": "stream",
     "text": [
      "__________________________________________________________________________________________________\n",
      "Layer (type)                    Output Shape         Param #     Connected to                     \n",
      "==================================================================================================\n",
      "input_12 (InputLayer)           (None, 40, 13)       0                                            \n",
      "__________________________________________________________________________________________________\n",
      "masking_8 (Masking)             (None, 40, 13)       0           input_12[0][0]                   \n",
      "__________________________________________________________________________________________________\n",
      "Phi0_Dense (TimeDistributed)    (None, 40, 100)      1400        masking_8[0][0]                  \n",
      "__________________________________________________________________________________________________\n",
      "Phi0_BatchNormalization (TimeDi (None, 40, 100)      400         Phi0_Dense[0][0]                 \n",
      "__________________________________________________________________________________________________\n",
      "Phi0_ReLU (TimeDistributed)     (None, 40, 100)      0           Phi0_BatchNormalization[0][0]    \n",
      "__________________________________________________________________________________________________\n",
      "Phi1_Dense (TimeDistributed)    (None, 40, 100)      10100       Phi0_ReLU[0][0]                  \n",
      "__________________________________________________________________________________________________\n",
      "Phi1_BatchNormalization (TimeDi (None, 40, 100)      400         Phi1_Dense[0][0]                 \n",
      "__________________________________________________________________________________________________\n",
      "Phi1_ReLU (TimeDistributed)     (None, 40, 100)      0           Phi1_BatchNormalization[0][0]    \n",
      "__________________________________________________________________________________________________\n",
      "Phi2_Dense (TimeDistributed)    (None, 40, 128)      12928       Phi1_ReLU[0][0]                  \n",
      "__________________________________________________________________________________________________\n",
      "Phi2_BatchNormalization (TimeDi (None, 40, 128)      512         Phi2_Dense[0][0]                 \n",
      "__________________________________________________________________________________________________\n",
      "Phi2_ReLU (TimeDistributed)     (None, 40, 128)      0           Phi2_BatchNormalization[0][0]    \n",
      "__________________________________________________________________________________________________\n",
      "Sum (Sum)                       (None, 128)          0           Phi2_ReLU[0][0]                  \n",
      "__________________________________________________________________________________________________\n",
      "F0_Dense (Dense)                (None, 100)          12900       Sum[0][0]                        \n",
      "__________________________________________________________________________________________________\n",
      "F0_BatchNormalization (BatchNor (None, 100)          400         F0_Dense[0][0]                   \n",
      "__________________________________________________________________________________________________\n",
      "F0_ReLU (ReLU)                  (None, 100)          0           F0_BatchNormalization[0][0]      \n",
      "__________________________________________________________________________________________________\n",
      "F1_Dense (Dense)                (None, 100)          10100       F0_ReLU[0][0]                    \n",
      "__________________________________________________________________________________________________\n",
      "F1_BatchNormalization (BatchNor (None, 100)          400         F1_Dense[0][0]                   \n",
      "__________________________________________________________________________________________________\n",
      "F1_ReLU (ReLU)                  (None, 100)          0           F1_BatchNormalization[0][0]      \n",
      "__________________________________________________________________________________________________\n",
      "F2_Dense (Dense)                (None, 100)          10100       F1_ReLU[0][0]                    \n",
      "__________________________________________________________________________________________________\n",
      "F2_BatchNormalization (BatchNor (None, 100)          400         F2_Dense[0][0]                   \n",
      "__________________________________________________________________________________________________\n",
      "F2_ReLU (ReLU)                  (None, 100)          0           F2_BatchNormalization[0][0]      \n",
      "__________________________________________________________________________________________________\n",
      "input_13 (InputLayer)           (None, 44)           0                                            \n",
      "__________________________________________________________________________________________________\n",
      "concatenate_3 (Concatenate)     (None, 144)          0           F2_ReLU[0][0]                    \n",
      "                                                                 input_13[0][0]                   \n",
      "__________________________________________________________________________________________________\n",
      "dense_47 (Dense)                (None, 72)           10440       concatenate_3[0][0]              \n",
      "__________________________________________________________________________________________________\n",
      "batch_normalization_44 (BatchNo (None, 72)           288         dense_47[0][0]                   \n",
      "__________________________________________________________________________________________________\n",
      "activation_25 (Activation)      (None, 72)           0           batch_normalization_44[0][0]     \n",
      "__________________________________________________________________________________________________\n",
      "dense_48 (Dense)                (None, 57)           4161        activation_25[0][0]              \n",
      "__________________________________________________________________________________________________\n",
      "batch_normalization_45 (BatchNo (None, 57)           228         dense_48[0][0]                   \n",
      "__________________________________________________________________________________________________\n",
      "activation_26 (Activation)      (None, 57)           0           batch_normalization_45[0][0]     \n",
      "__________________________________________________________________________________________________\n",
      "dense_49 (Dense)                (None, 60)           3480        activation_26[0][0]              \n",
      "__________________________________________________________________________________________________\n",
      "batch_normalization_46 (BatchNo (None, 60)           240         dense_49[0][0]                   \n",
      "__________________________________________________________________________________________________\n",
      "activation_27 (Activation)      (None, 60)           0           batch_normalization_46[0][0]     \n",
      "__________________________________________________________________________________________________\n",
      "dense_50 (Dense)                (None, 48)           2928        activation_27[0][0]              \n",
      "__________________________________________________________________________________________________\n",
      "batch_normalization_47 (BatchNo (None, 48)           192         dense_50[0][0]                   \n",
      "__________________________________________________________________________________________________\n",
      "activation_28 (Activation)      (None, 48)           0           batch_normalization_47[0][0]     \n",
      "__________________________________________________________________________________________________\n",
      "dense_51 (Dense)                (None, 36)           1764        activation_28[0][0]              \n",
      "__________________________________________________________________________________________________\n",
      "batch_normalization_48 (BatchNo (None, 36)           144         dense_51[0][0]                   \n",
      "__________________________________________________________________________________________________\n",
      "activation_29 (Activation)      (None, 36)           0           batch_normalization_48[0][0]     \n",
      "__________________________________________________________________________________________________\n",
      "dense_52 (Dense)                (None, 24)           888         activation_29[0][0]              \n",
      "__________________________________________________________________________________________________\n",
      "batch_normalization_49 (BatchNo (None, 24)           96          dense_52[0][0]                   \n",
      "__________________________________________________________________________________________________\n",
      "activation_30 (Activation)      (None, 24)           0           batch_normalization_49[0][0]     \n",
      "__________________________________________________________________________________________________\n",
      "dense_53 (Dense)                (None, 12)           300         activation_30[0][0]              \n",
      "__________________________________________________________________________________________________\n",
      "batch_normalization_50 (BatchNo (None, 12)           48          dense_53[0][0]                   \n",
      "__________________________________________________________________________________________________\n",
      "activation_31 (Activation)      (None, 12)           0           batch_normalization_50[0][0]     \n",
      "__________________________________________________________________________________________________\n",
      "dense_54 (Dense)                (None, 6)            78          activation_31[0][0]              \n",
      "__________________________________________________________________________________________________\n",
      "batch_normalization_51 (BatchNo (None, 6)            24          dense_54[0][0]                   \n",
      "__________________________________________________________________________________________________\n",
      "activation_32 (Activation)      (None, 6)            0           batch_normalization_51[0][0]     \n",
      "__________________________________________________________________________________________________\n",
      "Jet_class (Dense)               (None, 3)            303         F2_ReLU[0][0]                    \n",
      "__________________________________________________________________________________________________\n",
      "dense_55 (Dense)                (None, 3)            21          activation_32[0][0]              \n",
      "==================================================================================================\n",
      "Total params: 85,663\n",
      "Trainable params: 83,777\n",
      "Non-trainable params: 1,886\n",
      "__________________________________________________________________________________________________\n"
     ]
    }
   ],
   "source": [
    "# Input layer\n",
    "jet_inputs = Input(shape=(X_train.shape[1],))\n",
    "# number of nodes in the different hidden layers\n",
    "l_units = [72, 57, 60, 48, 36, 24, 12, 6]\n",
    "\n",
    "# Concatenate the inputs\n",
    "x = concatenate([F,jet_inputs])\n",
    "\n",
    "# loop to initialise the hidden layers\n",
    "for unit in l_units:\n",
    "    x = Dense(units=unit, activation=\"linear\", kernel_initializer='glorot_uniform')(x)\n",
    "    x = BatchNormalization()(x)\n",
    "    x = Activation('relu')(x)\n",
    "\n",
    "dl1_output = Dense(units=nClasses, activation='softmax',\n",
    "                    kernel_initializer='glorot_uniform')(x)\n",
    "\n",
    "model = Model(inputs=[trk_inputs,jet_inputs], outputs=[dips_output,dl1_output])\n",
    "model.summary()\n",
    "\n",
    "model_optimizer = Adam(lr=0.01)\n",
    "model.compile(  \n",
    "    loss='categorical_crossentropy',\n",
    "    optimizer=model_optimizer,\n",
    "    metrics=['accuracy']\n",
    ")"
   ]
  },
  {
   "cell_type": "code",
   "execution_count": null,
   "metadata": {},
   "outputs": [],
   "source": []
  }
 ],
 "metadata": {
  "kernelspec": {
   "display_name": "Python 3",
   "language": "python",
   "name": "python3"
  },
  "language_info": {
   "codemirror_mode": {
    "name": "ipython",
    "version": 3
   },
   "file_extension": ".py",
   "mimetype": "text/x-python",
   "name": "python",
   "nbconvert_exporter": "python",
   "pygments_lexer": "ipython3",
   "version": "3.7.3"
  }
 },
 "nbformat": 4,
 "nbformat_minor": 2
}
